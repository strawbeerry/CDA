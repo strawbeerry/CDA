{
 "cells": [
  {
   "cell_type": "code",
   "execution_count": 77,
   "metadata": {},
   "outputs": [],
   "source": [
    "import pandas as pd\n",
    "import numpy as np\n",
    "from collections import defaultdict"
   ]
  },
  {
   "cell_type": "code",
   "execution_count": 143,
   "metadata": {},
   "outputs": [
    {
     "name": "stdout",
     "output_type": "stream",
     "text": [
      "defaultdict(<type 'dict'>, {1: {1: 0, 2: 1, 3: 2, 4: 3, 5: 4}, 2: {1: 5, 2: 6, 3: 7, 4: 8, 5: 9}, 3: {1: 10, 2: 11, 3: 12, 4: 13, 5: 14}, 4: {1: 15, 2: 16, 3: 17, 4: 18, 5: 19}, 5: {1: 20, 2: 21, 3: 22, 4: 23, 5: 24}})\n"
     ]
    }
   ],
   "source": [
    "df = pd.read_excel(\"discretized_sensors4.xlsx\") \n",
    "#excel file containing the sensors, making up 80% of 'training dataset 2' to be used as a training set\n",
    "\n",
    "map_li = defaultdict(dict)\n",
    "for idx1,i in enumerate(range(1,6)):\n",
    "    for idx2,j in enumerate(range(1,6)):\n",
    "        pos = 5 * idx1 + idx2\n",
    "        map_li[i][j] = pos\n",
    "print(map_li)\n",
    "\n",
    "bigram_probabilities = {}\n",
    "window = 24 #size of sliding window\n",
    "\n",
    "for col in df.columns[:-1]:\n",
    "    data = []\n",
    "    sensor = df[col]\n",
    "    bigram_probabilities[col] = {}\n",
    "    for i in range(len(sensor)-window):\n",
    "        subseq = sensor[i:i+window]\n",
    "        denom = window - 1\n",
    "        row = np.zeros(25)\n",
    "        for num in range(len(subseq)-2):\n",
    "            curr_num =  sensor[num]\n",
    "            next_num =  sensor[num+1]\n",
    "            row[map_li[curr_num][next_num]] += 1\n",
    "        row = row / denom\n",
    "        data.append(row)\n",
    "    bigram_probabilities[col] = np.array(data)"
   ]
  },
  {
   "cell_type": "code",
   "execution_count": 40,
   "metadata": {
    "scrolled": true
   },
   "outputs": [
    {
     "name": "stdout",
     "output_type": "stream",
     "text": [
      "{u'L_T3': array([[0.08695652, 0.08695652, 0.        , ..., 0.        , 0.08695652,\n",
      "        0.08695652],\n",
      "       [0.08695652, 0.08695652, 0.        , ..., 0.        , 0.08695652,\n",
      "        0.08695652],\n",
      "       [0.08695652, 0.08695652, 0.        , ..., 0.        , 0.08695652,\n",
      "        0.08695652],\n",
      "       ...,\n",
      "       [0.08695652, 0.08695652, 0.        , ..., 0.        , 0.08695652,\n",
      "        0.08695652],\n",
      "       [0.08695652, 0.08695652, 0.        , ..., 0.        , 0.08695652,\n",
      "        0.08695652],\n",
      "       [0.08695652, 0.08695652, 0.        , ..., 0.        , 0.08695652,\n",
      "        0.08695652]]), u'L_T2': array([[0.43478261, 0.04347826, 0.        , ..., 0.        , 0.04347826,\n",
      "        0.        ],\n",
      "       [0.43478261, 0.04347826, 0.        , ..., 0.        , 0.04347826,\n",
      "        0.        ],\n",
      "       [0.43478261, 0.04347826, 0.        , ..., 0.        , 0.04347826,\n",
      "        0.        ],\n",
      "       ...,\n",
      "       [0.43478261, 0.04347826, 0.        , ..., 0.        , 0.04347826,\n",
      "        0.        ],\n",
      "       [0.43478261, 0.04347826, 0.        , ..., 0.        , 0.04347826,\n",
      "        0.        ],\n",
      "       [0.43478261, 0.04347826, 0.        , ..., 0.        , 0.04347826,\n",
      "        0.        ]]), u'L_T1': array([[0.13043478, 0.        , 0.        , ..., 0.        , 0.04347826,\n",
      "        0.17391304],\n",
      "       [0.13043478, 0.        , 0.        , ..., 0.        , 0.04347826,\n",
      "        0.17391304],\n",
      "       [0.13043478, 0.        , 0.        , ..., 0.        , 0.04347826,\n",
      "        0.17391304],\n",
      "       ...,\n",
      "       [0.13043478, 0.        , 0.        , ..., 0.        , 0.04347826,\n",
      "        0.17391304],\n",
      "       [0.13043478, 0.        , 0.        , ..., 0.        , 0.04347826,\n",
      "        0.17391304],\n",
      "       [0.13043478, 0.        , 0.        , ..., 0.        , 0.04347826,\n",
      "        0.17391304]]), u'L_T7': array([[0.        , 0.        , 0.        , ..., 0.04347826, 0.08695652,\n",
      "        0.08695652],\n",
      "       [0.        , 0.        , 0.        , ..., 0.04347826, 0.08695652,\n",
      "        0.08695652],\n",
      "       [0.        , 0.        , 0.        , ..., 0.04347826, 0.08695652,\n",
      "        0.08695652],\n",
      "       ...,\n",
      "       [0.        , 0.        , 0.        , ..., 0.04347826, 0.08695652,\n",
      "        0.08695652],\n",
      "       [0.        , 0.        , 0.        , ..., 0.04347826, 0.08695652,\n",
      "        0.08695652],\n",
      "       [0.        , 0.        , 0.        , ..., 0.04347826, 0.08695652,\n",
      "        0.08695652]]), u'L_T6': array([[0.        , 0.04347826, 0.        , ..., 0.04347826, 0.04347826,\n",
      "        0.47826087],\n",
      "       [0.        , 0.04347826, 0.        , ..., 0.04347826, 0.04347826,\n",
      "        0.47826087],\n",
      "       [0.        , 0.04347826, 0.        , ..., 0.04347826, 0.04347826,\n",
      "        0.47826087],\n",
      "       ...,\n",
      "       [0.        , 0.04347826, 0.        , ..., 0.04347826, 0.04347826,\n",
      "        0.47826087],\n",
      "       [0.        , 0.04347826, 0.        , ..., 0.04347826, 0.04347826,\n",
      "        0.47826087],\n",
      "       [0.        , 0.04347826, 0.        , ..., 0.04347826, 0.04347826,\n",
      "        0.47826087]]), u'L_T5': array([[0.04347826, 0.08695652, 0.        , ..., 0.        , 0.08695652,\n",
      "        0.04347826],\n",
      "       [0.04347826, 0.08695652, 0.        , ..., 0.        , 0.08695652,\n",
      "        0.04347826],\n",
      "       [0.04347826, 0.08695652, 0.        , ..., 0.        , 0.08695652,\n",
      "        0.04347826],\n",
      "       ...,\n",
      "       [0.04347826, 0.08695652, 0.        , ..., 0.        , 0.08695652,\n",
      "        0.04347826],\n",
      "       [0.04347826, 0.08695652, 0.        , ..., 0.        , 0.08695652,\n",
      "        0.04347826],\n",
      "       [0.04347826, 0.08695652, 0.        , ..., 0.        , 0.08695652,\n",
      "        0.04347826]]), u'L_T4': array([[0.        , 0.04347826, 0.        , ..., 0.04347826, 0.04347826,\n",
      "        0.17391304],\n",
      "       [0.        , 0.04347826, 0.        , ..., 0.04347826, 0.04347826,\n",
      "        0.17391304],\n",
      "       [0.        , 0.04347826, 0.        , ..., 0.04347826, 0.04347826,\n",
      "        0.17391304],\n",
      "       ...,\n",
      "       [0.        , 0.04347826, 0.        , ..., 0.04347826, 0.04347826,\n",
      "        0.17391304],\n",
      "       [0.        , 0.04347826, 0.        , ..., 0.04347826, 0.04347826,\n",
      "        0.17391304],\n",
      "       [0.        , 0.04347826, 0.        , ..., 0.04347826, 0.04347826,\n",
      "        0.17391304]])}\n"
     ]
    }
   ],
   "source": [
    "print(bigram_probabilities) \n",
    "#bigram probabilities of each 24 hour window (sliding) for all discretized sensors L_T1 until L_T7"
   ]
  },
  {
   "cell_type": "code",
   "execution_count": 145,
   "metadata": {},
   "outputs": [
    {
     "data": {
      "text/plain": [
       "(3315, 25)"
      ]
     },
     "execution_count": 145,
     "metadata": {},
     "output_type": "execute_result"
    }
   ],
   "source": [
    "bigram_probabilities['L_T1'].shape \n",
    "#to show that the number of columns ie bigram probabilites is 5*5 = 25. \n",
    "#5 is the number of discrete values used = 1, 2, 3, 4, 5"
   ]
  },
  {
   "cell_type": "code",
   "execution_count": 146,
   "metadata": {},
   "outputs": [],
   "source": [
    "import pandas as pd\n",
    "ar = pd.read_csv(\"x.csv\") #x.csv contains the attack flags in binary values"
   ]
  },
  {
   "cell_type": "code",
   "execution_count": 147,
   "metadata": {},
   "outputs": [
    {
     "data": {
      "text/plain": [
       "SVC(C=1.0, cache_size=200, class_weight=None, coef0=0.0,\n",
       "  decision_function_shape='ovr', degree=3, gamma='auto', kernel='rbf',\n",
       "  max_iter=-1, probability=False, random_state=None, shrinking=True,\n",
       "  tol=0.001, verbose=False)"
      ]
     },
     "execution_count": 147,
     "metadata": {},
     "output_type": "execute_result"
    }
   ],
   "source": [
    "from sklearn import svm \n",
    "Xtrain = (bigram_probabilities['L_T1']) #training the sensor L_T1\n",
    "ytrain = ar\n",
    "clf = svm.SVC()\n",
    "clf.fit(Xtrain, ytrain)\n"
   ]
  },
  {
   "cell_type": "code",
   "execution_count": null,
   "metadata": {},
   "outputs": [],
   "source": []
  },
  {
   "cell_type": "code",
   "execution_count": 148,
   "metadata": {},
   "outputs": [
    {
     "name": "stdout",
     "output_type": "stream",
     "text": [
      "defaultdict(<type 'dict'>, {1: {1: 0, 2: 1, 3: 2, 4: 3, 5: 4}, 2: {1: 5, 2: 6, 3: 7, 4: 8, 5: 9}, 3: {1: 10, 2: 11, 3: 12, 4: 13, 5: 14}, 4: {1: 15, 2: 16, 3: 17, 4: 18, 5: 19}, 5: {1: 20, 2: 21, 3: 22, 4: 23, 5: 24}})\n"
     ]
    }
   ],
   "source": [
    "import pandas as pd\n",
    "\n",
    "df = pd.read_excel(\"xtest.xlsx\") #test set containing 20% of the discretized sensor data\n",
    "\n",
    "map_li = defaultdict(dict)\n",
    "for idx1,i in enumerate(range(1,6)):\n",
    "    for idx2,j in enumerate(range(1,6)):\n",
    "        pos = 5 * idx1 + idx2\n",
    "        map_li[i][j] = pos\n",
    "print(map_li)\n",
    "\n",
    "Xtest = {}\n",
    "window = 24 #sliding window size is again set to 24\n",
    "\n",
    "for col in df.columns[:-1]:\n",
    "    data = []\n",
    "    sensor = df[col]\n",
    "    Xtest[col] = {}\n",
    "    for i in range(len(sensor)-window):\n",
    "        subseq = sensor[i:i+window]\n",
    "        denom = window - 1\n",
    "        row = np.zeros(25)\n",
    "        for num in range(len(subseq)-2):\n",
    "            curr_num =  sensor[num]\n",
    "            next_num =  sensor[num+1]\n",
    "            row[map_li[curr_num][next_num]] += 1\n",
    "        row = row / denom\n",
    "        data.append(row)\n",
    "    Xtest[col] = np.array(data)"
   ]
  },
  {
   "cell_type": "code",
   "execution_count": 149,
   "metadata": {},
   "outputs": [
    {
     "name": "stdout",
     "output_type": "stream",
     "text": [
      "[[0.34782609 0.         0.         ... 0.         0.         0.        ]\n",
      " [0.34782609 0.         0.         ... 0.         0.         0.        ]\n",
      " [0.34782609 0.         0.         ... 0.         0.         0.        ]\n",
      " ...\n",
      " [0.34782609 0.         0.         ... 0.         0.         0.        ]\n",
      " [0.34782609 0.         0.         ... 0.         0.         0.        ]\n",
      " [0.34782609 0.         0.         ... 0.         0.         0.        ]]\n"
     ]
    }
   ],
   "source": [
    "print (Xtest['L_T1']) #Xtest is now a dictionary containing bigram probabilites of the test data for all 7 sensors"
   ]
  },
  {
   "cell_type": "code",
   "execution_count": 150,
   "metadata": {},
   "outputs": [],
   "source": [
    "test_output1 = clf.predict(Xtest['L_T1'])"
   ]
  },
  {
   "cell_type": "code",
   "execution_count": null,
   "metadata": {},
   "outputs": [],
   "source": []
  },
  {
   "cell_type": "code",
   "execution_count": 159,
   "metadata": {},
   "outputs": [],
   "source": [
    "ytest = pd.read_excel(\"ytest.xlsx\")"
   ]
  },
  {
   "cell_type": "code",
   "execution_count": 160,
   "metadata": {},
   "outputs": [
    {
     "data": {
      "text/plain": [
       "SVC(C=1.0, cache_size=200, class_weight=None, coef0=0.0,\n",
       "  decision_function_shape='ovr', degree=3, gamma='auto', kernel='rbf',\n",
       "  max_iter=-1, probability=False, random_state=None, shrinking=True,\n",
       "  tol=0.001, verbose=False)"
      ]
     },
     "execution_count": 160,
     "metadata": {},
     "output_type": "execute_result"
    }
   ],
   "source": [
    "from sklearn import svm\n",
    "Xtrain = (bigram_probabilities['L_T2'])\n",
    "ytrain = ar\n",
    "clf = svm.SVC()\n",
    "clf.fit(Xtrain, ytrain)"
   ]
  },
  {
   "cell_type": "code",
   "execution_count": 166,
   "metadata": {},
   "outputs": [],
   "source": [
    "test_output2 = clf.predict(Xtest['L_T2'])"
   ]
  },
  {
   "cell_type": "code",
   "execution_count": 167,
   "metadata": {},
   "outputs": [
    {
     "data": {
      "text/plain": [
       "SVC(C=1.0, cache_size=200, class_weight=None, coef0=0.0,\n",
       "  decision_function_shape='ovr', degree=3, gamma='auto', kernel='rbf',\n",
       "  max_iter=-1, probability=False, random_state=None, shrinking=True,\n",
       "  tol=0.001, verbose=False)"
      ]
     },
     "execution_count": 167,
     "metadata": {},
     "output_type": "execute_result"
    }
   ],
   "source": [
    "from sklearn import svm\n",
    "Xtrain = (bigram_probabilities['L_T3'])\n",
    "ytrain = ar\n",
    "clf = svm.SVC()\n",
    "clf.fit(Xtrain, ytrain)"
   ]
  },
  {
   "cell_type": "code",
   "execution_count": 168,
   "metadata": {},
   "outputs": [],
   "source": [
    "test_output3 = clf.predict(Xtest['L_T3'])"
   ]
  },
  {
   "cell_type": "code",
   "execution_count": 169,
   "metadata": {},
   "outputs": [
    {
     "data": {
      "text/plain": [
       "SVC(C=1.0, cache_size=200, class_weight=None, coef0=0.0,\n",
       "  decision_function_shape='ovr', degree=3, gamma='auto', kernel='rbf',\n",
       "  max_iter=-1, probability=False, random_state=None, shrinking=True,\n",
       "  tol=0.001, verbose=False)"
      ]
     },
     "execution_count": 169,
     "metadata": {},
     "output_type": "execute_result"
    }
   ],
   "source": [
    "from sklearn import svm\n",
    "Xtrain = (bigram_probabilities['L_T4'])\n",
    "ytrain = ar\n",
    "clf = svm.SVC()\n",
    "clf.fit(Xtrain, ytrain)"
   ]
  },
  {
   "cell_type": "code",
   "execution_count": 170,
   "metadata": {},
   "outputs": [],
   "source": [
    "test_output4 = clf.predict(Xtest['L_T4'])"
   ]
  },
  {
   "cell_type": "code",
   "execution_count": 171,
   "metadata": {},
   "outputs": [
    {
     "data": {
      "text/plain": [
       "SVC(C=1.0, cache_size=200, class_weight=None, coef0=0.0,\n",
       "  decision_function_shape='ovr', degree=3, gamma='auto', kernel='rbf',\n",
       "  max_iter=-1, probability=False, random_state=None, shrinking=True,\n",
       "  tol=0.001, verbose=False)"
      ]
     },
     "execution_count": 171,
     "metadata": {},
     "output_type": "execute_result"
    }
   ],
   "source": [
    "from sklearn import svm\n",
    "Xtrain = (bigram_probabilities['L_T5'])\n",
    "ytrain = ar\n",
    "clf = svm.SVC()\n",
    "clf.fit(Xtrain, ytrain)"
   ]
  },
  {
   "cell_type": "code",
   "execution_count": 172,
   "metadata": {},
   "outputs": [],
   "source": [
    "test_output5 = clf.predict(Xtest['L_T5'])"
   ]
  },
  {
   "cell_type": "code",
   "execution_count": 173,
   "metadata": {},
   "outputs": [
    {
     "data": {
      "text/plain": [
       "SVC(C=1.0, cache_size=200, class_weight=None, coef0=0.0,\n",
       "  decision_function_shape='ovr', degree=3, gamma='auto', kernel='rbf',\n",
       "  max_iter=-1, probability=False, random_state=None, shrinking=True,\n",
       "  tol=0.001, verbose=False)"
      ]
     },
     "execution_count": 173,
     "metadata": {},
     "output_type": "execute_result"
    }
   ],
   "source": [
    "from sklearn import svm\n",
    "Xtrain = (bigram_probabilities['L_T6'])\n",
    "ytrain = ar\n",
    "clf = svm.SVC()\n",
    "clf.fit(Xtrain, ytrain)"
   ]
  },
  {
   "cell_type": "code",
   "execution_count": 174,
   "metadata": {},
   "outputs": [],
   "source": [
    "test_output6 = clf.predict(Xtest['L_T6'])"
   ]
  },
  {
   "cell_type": "code",
   "execution_count": null,
   "metadata": {},
   "outputs": [],
   "source": []
  },
  {
   "cell_type": "code",
   "execution_count": null,
   "metadata": {},
   "outputs": [],
   "source": []
  },
  {
   "cell_type": "code",
   "execution_count": null,
   "metadata": {},
   "outputs": [],
   "source": []
  },
  {
   "cell_type": "code",
   "execution_count": null,
   "metadata": {},
   "outputs": [],
   "source": []
  },
  {
   "cell_type": "code",
   "execution_count": null,
   "metadata": {},
   "outputs": [],
   "source": []
  }
 ],
 "metadata": {
  "kernelspec": {
   "display_name": "Python 2",
   "language": "python",
   "name": "python2"
  },
  "language_info": {
   "codemirror_mode": {
    "name": "ipython",
    "version": 2
   },
   "file_extension": ".py",
   "mimetype": "text/x-python",
   "name": "python",
   "nbconvert_exporter": "python",
   "pygments_lexer": "ipython2",
   "version": "2.7.14"
  }
 },
 "nbformat": 4,
 "nbformat_minor": 2
}
