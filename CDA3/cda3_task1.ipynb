{
 "cells": [
  {
   "cell_type": "code",
   "execution_count": 2,
   "metadata": {},
   "outputs": [],
   "source": [
    "# Imports\n",
    "import operator\n",
    "from collections import Counter\n",
    "from bitarray import bitarray\n",
    "import mmh3\n",
    "import math\n",
    "import pandas as pd\n",
    "import numpy as np\n",
    "import matplotlib.pyplot as plt \n",
    "import numpy as np \n"
   ]
  },
  {
   "cell_type": "code",
   "execution_count": 3,
   "metadata": {},
   "outputs": [],
   "source": [
    "# read data and assign column names, if u are changing dataset(this is scenario 10), then accordingly change the cols, else an error will pop up \n",
    "cols = (\n",
    "   'date', 'flow_start', 'duration', 'protocol', 'src_addrIP',\n",
    "    'direction', 'dst_addrIP', 'flags', 'tos', 'packets',\n",
    "    'bytes', 'flows', 'label', )\n",
    "dataset = pd.read_csv('capture20110818.pcap.netflow.labeled', header=0,names=cols,skiprows=1, sep='\\s+')"
   ]
  },
  {
   "cell_type": "code",
   "execution_count": 4,
   "metadata": {},
   "outputs": [],
   "source": [
    "stream_ips = dataset.iloc[:,6]"
   ]
  },
  {
   "cell_type": "code",
   "execution_count": 5,
   "metadata": {},
   "outputs": [
    {
     "data": {
      "text/plain": [
       "0             147.32.84.59:43087\n",
       "1              82.39.2.249:41915\n",
       "2              147.32.192.34:993\n",
       "3            147.32.86.166:33426\n",
       "4                 147.32.84.2:80\n",
       "5             147.32.86.24:31002\n",
       "6            151.41.188.39:49621\n",
       "7             147.32.84.118:1153\n",
       "8                   82.73.244.56\n",
       "9            147.32.86.110:48190\n",
       "10            80.78.79.156:51287\n",
       "11             147.32.84.59:2774\n",
       "12            192.221.106.126:80\n",
       "13            147.32.86.135:3978\n",
       "14            212.111.2.151:8000\n",
       "15               95.172.94.54:80\n",
       "16               95.172.94.54:80\n",
       "17            147.32.84.59:43087\n",
       "18           114.78.14.160:31011\n",
       "19            147.32.85.88:56949\n",
       "20            188.95.61.42:53389\n",
       "21          195.250.146.100:8000\n",
       "22           147.32.84.229:13363\n",
       "23         122.176.204.167:16041\n",
       "24           147.32.86.165:12114\n",
       "25             147.32.86.88:3389\n",
       "26           147.32.86.166:48761\n",
       "27            147.32.84.138:8080\n",
       "28           147.32.203.229:2971\n",
       "29          194.108.204.22:48747\n",
       "                   ...          \n",
       "5180820             147.32.96.69\n",
       "5180821      147.32.86.116:19083\n",
       "5180822       223.25.15.14:57819\n",
       "5180823            147.32.84.205\n",
       "5180824            147.32.84.208\n",
       "5180825       147.32.86.190:3306\n",
       "5180826       90.177.96.51:10008\n",
       "5180827      147.32.87.238:39371\n",
       "5180828      137.73.122.94:10385\n",
       "5180829       74.125.39.125:5222\n",
       "5180830      147.32.84.229:13363\n",
       "5180831       89.77.58.169:36736\n",
       "5180832      147.32.84.229:13363\n",
       "5180833       59.22.11.248:44432\n",
       "5180834      147.32.84.184:51544\n",
       "5180835      147.32.84.229:13363\n",
       "5180836       213.192.19.30:3453\n",
       "5180837            147.32.84.208\n",
       "5180838       89.221.217.12:1935\n",
       "5180839      147.32.86.223:52836\n",
       "5180840     217.155.57.118:62241\n",
       "5180841       147.32.84.59:60951\n",
       "5180842        80.239.148.114:80\n",
       "5180843       147.32.84.59:56028\n",
       "5180844     130.89.164.161:50621\n",
       "5180845        147.32.84.229:443\n",
       "5180846      147.32.84.229:13363\n",
       "5180847    109.198.198.186:16221\n",
       "5180848       147.32.84.59:60960\n",
       "5180849       147.32.84.21:34713\n",
       "Name: dst_addrIP, Length: 5180850, dtype: object"
      ]
     },
     "execution_count": 5,
     "metadata": {},
     "output_type": "execute_result"
    }
   ],
   "source": [
    "#see the ip addresses \n",
    "stream_ips "
   ]
  },
  {
   "cell_type": "code",
   "execution_count": 6,
   "metadata": {},
   "outputs": [
    {
     "name": "stdout",
     "output_type": "stream",
     "text": [
      "The number of distinct IP addresses is: 563138\n",
      "The number of total IP addresses is: 5180850\n"
     ]
    }
   ],
   "source": [
    "# Printing the number of distinct source IP addresses\n",
    "print(\"The number of distinct IP addresses is: %s\" %len(set(stream_ips)))\n",
    "# Printing the total number of source IP addresses\n",
    "print(\"The number of total IP addresses is: %s\" %len(stream_ips))"
   ]
  },
  {
   "cell_type": "code",
   "execution_count": 7,
   "metadata": {},
   "outputs": [
    {
     "name": "stdout",
     "output_type": "stream",
     "text": [
      "('147.32.84.229:13363', 697697)\n",
      "('147.32.80.9:53', 482735)\n",
      "('147.32.96.69', 213654)\n",
      "('147.32.84.229:443', 64190)\n",
      "('147.32.80.13:80', 58950)\n",
      "('147.32.86.116:19083', 40959)\n",
      "('147.32.85.26:62860', 20678)\n",
      "('147.32.84.111:5938', 15218)\n",
      "('76.13.114.90:80', 15087)\n",
      "('147.32.84.229:80', 15026)\n"
     ]
    }
   ],
   "source": [
    "# count the frequency of each IP address\n",
    "freq = Counter(stream_ips)\n",
    "\n",
    "# Sort them according to their value to find the 13 most frequent ones\n",
    "sorted_el = sorted(freq.items(), key=operator.itemgetter(1), reverse = True)\n",
    "\n",
    "# Print the 10 most frequent IP addresses\n",
    "for i in range(10):\n",
    "    print (sorted_el[i])"
   ]
  },
  {
   "cell_type": "code",
   "execution_count": 8,
   "metadata": {},
   "outputs": [
    {
     "data": {
      "text/plain": [
       "(array([313., 157., 527., 131., 165., 137., 132., 165., 134., 138.]),\n",
       " array([   0. ,  115.1,  230.2,  345.3,  460.4,  575.5,  690.6,  805.7,\n",
       "         920.8, 1035.9, 1151. ]),\n",
       " <a list of 10 Patch objects>)"
      ]
     },
     "execution_count": 8,
     "metadata": {},
     "output_type": "execute_result"
    },
    {
     "data": {
      "image/png": "[encoded data removed]",
      "text/plain": [
       "<matplotlib.figure.Figure at 0x17f6b559cf8>"
      ]
     },
     "metadata": {},
     "output_type": "display_data"
    }
   ],
   "source": [
    "# distribution of a minimum 2000 ips \n",
    "\n",
    "%matplotlib inline \n",
    "\n",
    "plt.hist(dataset.iloc[1:2000,6])"
   ]
  },
  {
   "cell_type": "code",
   "execution_count": 12,
   "metadata": {},
   "outputs": [
    {
     "data": {
      "text/plain": [
       "(array([4535492.,       0.,       0.,       0.,       0.,  323441.,\n",
       "              0.,       0.,       0.,  321917.]),\n",
       " array([0. , 0.2, 0.4, 0.6, 0.8, 1. , 1.2, 1.4, 1.6, 1.8, 2. ]),\n",
       " <a list of 10 Patch objects>)"
      ]
     },
     "execution_count": 12,
     "metadata": {},
     "output_type": "execute_result"
    },
    {
     "data": {
      "image/png": "[encoded data removed]",
      "text/plain": [
       "<matplotlib.figure.Figure at 0x17f36aa3da0>"
      ]
     },
     "metadata": {},
     "output_type": "display_data"
    }
   ],
   "source": [
    "labels = dataset.iloc[:,12]\n",
    "plt.hist(labels)"
   ]
  },
  {
   "cell_type": "code",
   "execution_count": 9,
   "metadata": {},
   "outputs": [],
   "source": [
    "# implementation of FREQUENT (Misra - Gries) algorithm, that is ideal for computation \n",
    "def frequent(stream, k):\n",
    "    freqD = {}\n",
    "    for value in stream:\n",
    "        if value in freqD:\n",
    "            freqD[value]+=1\n",
    "\n",
    "        elif len(freqD) < k:\n",
    "            freqD[value] = 1\n",
    "\n",
    "        else:\n",
    "            for existing_value in freqD:\n",
    "                freqD[existing_value]-=1\n",
    "            freqD = {x: y for x, y in freqD.items() if y != 0}\n",
    "       \n",
    "    return freqD"
   ]
  },
  {
   "cell_type": "code",
   "execution_count": 10,
   "metadata": {},
   "outputs": [
    {
     "name": "stdout",
     "output_type": "stream",
     "text": [
      "The 10 most frequent IP addresses are:\n",
      "('147.32.84.229:13363', 697697)\n",
      "('147.32.80.9:53', 482735)\n",
      "('147.32.96.69', 213654)\n",
      "('147.32.84.229:443', 64190)\n",
      "('147.32.80.13:80', 58950)\n",
      "('147.32.86.116:19083', 40959)\n",
      "('147.32.85.26:62860', 20678)\n",
      "('147.32.84.111:5938', 15218)\n",
      "('76.13.114.90:80', 15087)\n",
      "('147.32.84.229:80', 15026)\n"
     ]
    }
   ],
   "source": [
    "# Running the FREQUENT algorithm\n",
    "\n",
    "# initialize fraction u can change the value of k and experiment \n",
    "k = 1000000\n",
    "\n",
    "# Find elements whose frequency exceeds 1/k fraction of the total count\n",
    "elements = frequent(stream_ips, k)\n",
    "\n",
    "# Sort them according to their value to find the 13 most frequent ones\n",
    "sorted_freq = sorted(elements.items(), key=operator.itemgetter(1), reverse = True)\n",
    "\n",
    "print(\"The 10 most frequent IP addresses are:\")\n",
    "\n",
    "for i in range(10):\n",
    "    print(sorted_freq[i])\n",
    "#try ploting if time permits\n",
    "#%matplotlib inline\n",
    "#plt.hist(sorted_freq)"
   ]
  },
  {
   "cell_type": "code",
   "execution_count": 11,
   "metadata": {
    "scrolled": true
   },
   "outputs": [
    {
     "name": "stdout",
     "output_type": "stream",
     "text": [
      "The 9 most frequent IP addresses with k = 10 are: \n",
      " (right hand side = real ips, left hand side = ips by reserviour sampling  )\n",
      "\n",
      "FREQUENT #0: ('147.32.84.229:13363', 255962)\t \t REAL #0: ('147.32.84.229:13363', 697697)\n",
      "FREQUENT #1: ('147.32.80.9:53', 41032)\t \t REAL #1: ('147.32.80.9:53', 482735)\n",
      "FREQUENT #2: ('147.32.96.69', 24743)\t \t REAL #2: ('147.32.96.69', 213654)\n",
      "FREQUENT #3: ('147.32.84.59:56028', 1)\t \t REAL #3: ('147.32.84.229:443', 64190)\n",
      "FREQUENT #4: ('130.89.164.161:50621', 1)\t \t REAL #4: ('147.32.80.13:80', 58950)\n",
      "FREQUENT #5: ('147.32.84.229:443', 1)\t \t REAL #5: ('147.32.86.116:19083', 40959)\n",
      "FREQUENT #6: ('109.198.198.186:16221', 1)\t \t REAL #6: ('147.32.85.26:62860', 20678)\n",
      "FREQUENT #7: ('147.32.84.59:60960', 1)\t \t REAL #7: ('147.32.84.111:5938', 15218)\n",
      "FREQUENT #8: ('147.32.84.21:34713', 1)\t \t REAL #8: ('76.13.114.90:80', 15087)\n",
      "The 10 most frequent IP addresses with k = 100 are: \n",
      " (right hand side = real ips, left hand side = ips by reserviour sampling  )\n",
      "\n",
      "FREQUENT #0: ('147.32.84.229:13363', 660070)\t \t REAL #0: ('147.32.84.229:13363', 697697)\n",
      "FREQUENT #1: ('147.32.80.9:53', 445108)\t \t REAL #1: ('147.32.80.9:53', 482735)\n",
      "FREQUENT #2: ('147.32.96.69', 189903)\t \t REAL #2: ('147.32.96.69', 213654)\n",
      "FREQUENT #3: ('147.32.86.116:19083', 32262)\t \t REAL #3: ('147.32.84.229:443', 64190)\n",
      "FREQUENT #4: ('147.32.84.229:443', 26563)\t \t REAL #4: ('147.32.80.13:80', 58950)\n",
      "FREQUENT #5: ('147.32.80.13:80', 21335)\t \t REAL #5: ('147.32.86.116:19083', 40959)\n",
      "FREQUENT #6: ('147.32.84.205', 1047)\t \t REAL #6: ('147.32.85.26:62860', 20678)\n",
      "FREQUENT #7: ('147.32.84.208', 982)\t \t REAL #7: ('147.32.84.111:5938', 15218)\n",
      "FREQUENT #8: ('147.32.84.192', 646)\t \t REAL #8: ('76.13.114.90:80', 15087)\n",
      "FREQUENT #9: ('147.32.84.165', 568)\t \t REAL #9: ('147.32.84.229:80', 15026)\n",
      "The 10 most frequent IP addresses with k = 1000 are: \n",
      " (right hand side = real ips, left hand side = ips by reserviour sampling  )\n",
      "\n",
      "FREQUENT #0: ('147.32.84.229:13363', 694361)\t \t REAL #0: ('147.32.84.229:13363', 697697)\n",
      "FREQUENT #1: ('147.32.80.9:53', 479399)\t \t REAL #1: ('147.32.80.9:53', 482735)\n",
      "FREQUENT #2: ('147.32.96.69', 211096)\t \t REAL #2: ('147.32.96.69', 213654)\n",
      "FREQUENT #3: ('147.32.84.229:443', 60854)\t \t REAL #3: ('147.32.84.229:443', 64190)\n",
      "FREQUENT #4: ('147.32.80.13:80', 55614)\t \t REAL #4: ('147.32.80.13:80', 58950)\n",
      "FREQUENT #5: ('147.32.86.116:19083', 39987)\t \t REAL #5: ('147.32.86.116:19083', 40959)\n",
      "FREQUENT #6: ('147.32.85.26:62860', 17428)\t \t REAL #6: ('147.32.85.26:62860', 20678)\n",
      "FREQUENT #7: ('147.32.84.111:5938', 12091)\t \t REAL #7: ('147.32.84.111:5938', 15218)\n",
      "FREQUENT #8: ('76.13.114.90:80', 11751)\t \t REAL #8: ('76.13.114.90:80', 15087)\n",
      "FREQUENT #9: ('147.32.84.229:80', 11690)\t \t REAL #9: ('147.32.84.229:80', 15026)\n"
     ]
    }
   ],
   "source": [
    "# Running the FREQUENT algorithm\n",
    "#reservior sampling \n",
    "# initialize fraction\n",
    "for k in [10, 100, 1000]:\n",
    "    \n",
    "    \n",
    "    # Find elements whose frequency exceeds 1/k fraction of the total count\n",
    "    elements = frequent(stream_ips, k)\n",
    "\n",
    "    # Sort them according to their value to find the 13 most frequent ones\n",
    "    sorted_freq = sorted(elements.items(), key=operator.itemgetter(1), reverse = True)\n",
    "\n",
    "        \n",
    "    if len(sorted_freq)<10:\n",
    "        num = len(sorted_freq)\n",
    "    else:\n",
    "        num = 10\n",
    "        \n",
    "    print(\"The %s most frequent IP addresses with k = %s are: \\n (right hand side = real ips, left hand side = ips by reserviour sampling  )\\n\" %(num,k))\n",
    "\n",
    "    for i in range(num):\n",
    "        print(\"FREQUENT #%s: %s\\t \\t REAL #%s: %s\" %(i, sorted_freq[i], i, sorted_el[i]))\n",
    "        \n",
    "        # sorted_el contains the real frequencies of the IPs.\n",
    "        # print it  as well, if you want to see the differences in the same page.\n",
    "        #print(sorted_el[i])"
   ]
  },
  {
   "cell_type": "markdown",
   "metadata": {},
   "source": [
    "# Now computing the error rates with varying sample sizes \n"
   ]
  },
  {
   "cell_type": "code",
   "execution_count": 14,
   "metadata": {},
   "outputs": [
    {
     "name": "stdout",
     "output_type": "stream",
     "text": [
      "The size of the total data: 5180850\n",
      "The size of the training data: 2590425\n",
      "The size of the testing data: 2590425\n"
     ]
    }
   ],
   "source": [
    "# stream_ips is a list containing the IPs in temporal order\n",
    "\n",
    "train = stream_ips[:int(len(stream_ips)/2)]\n",
    "test = stream_ips[int(len(stream_ips)/2):]\n",
    "\n",
    "# Check size of train and test set\n",
    "print(\"The size of the total data: %s\" %len(stream_ips))\n",
    "print(\"The size of the training data: %s\" %len(train))\n",
    "print(\"The size of the testing data: %s\" %len(test))"
   ]
  },
  {
   "cell_type": "code",
   "execution_count": 15,
   "metadata": {},
   "outputs": [
    {
     "name": "stdout",
     "output_type": "stream",
     "text": [
      "There are 124800 source IPs in the test set which also occur in the train set\n"
     ]
    }
   ],
   "source": [
    "# We firstly create two sets from our training and testing dataset\n",
    "train_set = set(train)\n",
    "test_set = set(test)\n",
    "\n",
    "# check the intersection to see number of training and testing size overlap\n",
    "inter = set.intersection(train_set, test_set)\n",
    "\n",
    "# The real number of source IPs in the test set which also occur in the train set\n",
    "gt = len(inter) # our ground truth\n",
    "print(\"There are %s source IPs in the test set which also occur in the train set\"%gt)"
   ]
  },
  {
   "cell_type": "code",
   "execution_count": 18,
   "metadata": {},
   "outputs": [],
   "source": [
    "class BloomFilter:\n",
    "    \n",
    "    def __init__(self, size, hash_count):\n",
    "        self.size = size\n",
    "        self.hash_count = hash_count\n",
    "        self.bit_array = bitarray(size)\n",
    "        self.bit_array.setall(0)\n",
    "        \n",
    "    def add(self, string):\n",
    "        for seed in range(self.hash_count):\n",
    "            result = mmh3.hash(string, seed) % self.size\n",
    "            self.bit_array[result] = 1\n",
    "        \n",
    "    def lookup(self, string):\n",
    "        for seed in range(self.hash_count):\n",
    "            result = mmh3.hash(string, seed) % self.size\n",
    "            if self.bit_array[result] == 0:\n",
    "                return \"No\"\n",
    "        return \"yes\""
   ]
  },
  {
   "cell_type": "code",
   "execution_count": 19,
   "metadata": {},
   "outputs": [
    {
     "name": "stdout",
     "output_type": "stream",
     "text": [
      "Bit array size: 9547811\n",
      "Number of hash functions required: 20\n",
      "IPs from the training set\n",
      "There are no more than 124800 source IPs in the test set which also occur in the train set\n"
     ]
    }
   ],
   "source": [
    "n = len(train_set) # expected number of items\n",
    "p = 0.000001 # probability percentage\n",
    "m = - (n* math.log(p)) /(math.log(2)**2) # size of the bit array\n",
    "k = (m/n)* math.log(2) # number of hash functions\n",
    "\n",
    "m = round(m)\n",
    "k = round(k)\n",
    "\n",
    "print(\"Bit array size: %s\" %m)\n",
    "print(\"Number of hash functions required: %s\" %k)\n",
    "\n",
    "bf = BloomFilter(m, k)\n",
    "\n",
    "# Adding training set's IPs\n",
    "for ip in train_set:\n",
    "    bf.add(ip)\n",
    "\n",
    "print(\"IPs from the training set\")\n",
    "\n",
    "# lookup for the IPs in the test set\n",
    "count = 0\n",
    "for ip in test_set:\n",
    "    if bf.lookup(ip) == \"yes\":\n",
    "        count+=1\n",
    "print(\"There are no more than %s source IPs in the test set which also occur in the train set\"%count)"
   ]
  },
  {
   "cell_type": "code",
   "execution_count": 22,
   "metadata": {},
   "outputs": [
    {
     "name": "stdout",
     "output_type": "stream",
     "text": [
      "Running for bit array size: 10\n",
      "Number of hash functions: 0 \n",
      "\n",
      "Running for bit array size: 100\n",
      "Number of hash functions: 0 \n",
      "\n",
      "Running for bit array size: 1000\n",
      "Number of hash functions: 0 \n",
      "\n"
     ]
    }
   ],
   "source": [
    "n = len(train_set) # expected number of items\n",
    "\n",
    "results = {} # dictionary with the results for different bit array sizes\n",
    "\n",
    "for m in [10, 100, 1000]:\n",
    "    k = (m/n)* math.log(2) # number of hash functions\n",
    "    k = round(k)\n",
    "    print(\" Size of bit array: %s\" %m)\n",
    "    print(\"Number of hash functions: %s \\n\" %k)\n",
    "    bf = BloomFilter(m, k)\n",
    " \n",
    "    # Adding training set's IPs\n",
    "    for ip in train_set:\n",
    "        bf.add(ip)\n",
    "\n",
    "    # lookup for the IPs in the test set\n",
    "    \n",
    "    for ip in test_set:\n",
    "        if bf.lookup(ip) == \"yes\":\n",
    "            if m in results:\n",
    "                results[m].append(ip)\n",
    "            else:\n",
    "                results[m] = [ip]"
   ]
  },
  {
   "cell_type": "code",
   "execution_count": 24,
   "metadata": {},
   "outputs": [
    {
     "name": "stdout",
     "output_type": "stream",
     "text": [
      "Running for bit array size: 500000\n",
      "Number of hash functions: 1\n",
      "The number of test set's IPs which are possibly in the training set are: 236792\n",
      "The false positive rate is: 0.48460406750324536 \n",
      "\n",
      "Running for bit array size: 1000000\n",
      "Number of hash functions: 2\n",
      "The number of test set's IPs which are possibly in the training set are: 178956\n",
      "The false positive rate is: 0.23434011250540893 \n",
      "\n",
      "Running for bit array size: 2000000\n",
      "Number of hash functions: 4\n",
      "The number of test set's IPs which are possibly in the training set are: 137583\n",
      "The false positive rate is: 0.05531371700562527 \n",
      "\n",
      "Running for bit array size: 4000000\n",
      "Number of hash functions: 8\n",
      "The number of test set's IPs which are possibly in the training set are: 125547\n",
      "The false positive rate is: 0.0032323669407183036 \n",
      "\n",
      "Running for bit array size: 8000000\n",
      "Number of hash functions: 17\n",
      "The number of test set's IPs which are possibly in the training set are: 124801\n",
      "The false positive rate is: 4.327131112072696e-06 \n",
      "\n",
      "Running for bit array size: 10000000\n",
      "Number of hash functions: 21\n",
      "The number of test set's IPs which are possibly in the training set are: 124800\n",
      "The false positive rate is: 0.0 \n",
      "\n"
     ]
    }
   ],
   "source": [
    "n = len(train_set) # expected number of items\n",
    "\n",
    "results = {} # dictionary with the results for different bit array sizes\n",
    "fpr = {}  # dictionary with the false positive rates for different bit array sizes\n",
    "\n",
    "# for each bit array size, u can change sizes and try\n",
    "for m in [500000, 1000000, 2000000, 4000000, 8000000, 10000000]:\n",
    "    # calculate k\n",
    "    k = (m/n)* math.log(2) # number of hash functions\n",
    "    k = round(k)\n",
    "    print(\"Running for bit array size: %s\" %m)\n",
    "    print(\"Number of hash functions: %s\" %k)\n",
    "    \n",
    "    # define bloom filter\n",
    "    bf = BloomFilter(m, k)\n",
    " \n",
    "    # Adding training set's IPs\n",
    "    for ip in train_set:\n",
    "        bf.add(ip)\n",
    "\n",
    "    # lookup for the IPs in the test set and if they exist in the training set store them in results.\n",
    "    for ip in test_set:\n",
    "        if bf.lookup(ip) == \"yes\":\n",
    "            if m in results:\n",
    "                results[m].append(ip)\n",
    "            else:\n",
    "                results[m] = [ip]\n",
    "    \n",
    "    # False positive rate\n",
    "    # The total number of testing set's IPs we said they possibly exist in the training set minus \n",
    "    # the actual number of the co-occured IPs. \n",
    "    fp = len(results[m]) - gt\n",
    "    tn = len(test_set) - len(results[m])\n",
    "    fpr[m] = fp/(fp+tn)\n",
    "    print(\"The number of test set's IPs which are possibly in the training set are: %s\" %len(results[m]))\n",
    "    print(\"The false positive rate is: %s \\n\" %fpr[m])"
   ]
  },
  {
   "cell_type": "code",
   "execution_count": null,
   "metadata": {},
   "outputs": [],
   "source": []
  },
  {
   "cell_type": "code",
   "execution_count": null,
   "metadata": {},
   "outputs": [],
   "source": []
  }
 ],
 "metadata": {
  "kernelspec": {
   "display_name": "Python 3",
   "language": "python",
   "name": "python3"
  }
 },
 "nbformat": 4,
 "nbformat_minor": 2
}
