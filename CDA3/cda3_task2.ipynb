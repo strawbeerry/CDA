{
 "cells": [
  {
   "cell_type": "code",
   "execution_count": 2,
   "metadata": {},
   "outputs": [],
   "source": [
    "import pandas as pd\n",
    "import numpy as np\n",
    "import os\n",
    "import glob\n",
    "from collections import Counter\n",
    "import math\n",
    "from bitarray import bitarray\n",
    "import mmh3\n",
    "import matplotlib.pyplot as plt\n",
    "from __future__ import division\n",
    "plt.style.use('ggplot')\n",
    "%matplotlib inline"
   ]
  },
  {
   "cell_type": "code",
   "execution_count": 1,
   "metadata": {},
   "outputs": [],
   "source": [
    "import numpy as np \n",
    "import pandas as pd \n",
    "# read data and assign column names \n",
    "cols = (\n",
    "   'date', 'flow_start', 'duration', 'protocol', 'src_addrIP',\n",
    "    'direction', 'dst_addrIP', 'flags', 'tos', 'packets',\n",
    "    'bytes', 'flows', 'label', \n",
    ")\n",
    "dataset = pd.read_csv('capture20110818.pcap.netflow.labeled', header=0,names=cols,skiprows=1, sep='\\s+')\n",
    "df_ip = dataset.iloc[:,6]\n",
    "iplist = df_ip.tolist()\n"
   ]
  },
  {
   "cell_type": "code",
   "execution_count": 3,
   "metadata": {},
   "outputs": [
    {
     "name": "stdout",
     "output_type": "stream",
     "text": [
      "5180850\n",
      "2590425\n"
     ]
    }
   ],
   "source": [
    "#create two lists list1 and list2\n",
    "list1 = int(math.floor((len(iplist))/2))\n",
    "list2 = int(math.ceil((len(iplist))/2))\n",
    "training = iplist[:list1]\n",
    "test = iplist[list2:]\n",
    "\n",
    "print(len(training) + len(test))\n",
    "print(len(training))"
   ]
  },
  {
   "cell_type": "code",
   "execution_count": 4,
   "metadata": {},
   "outputs": [],
   "source": [
    "#initialize l as a list of sequence \n",
    "l = [1,2,3,2,4,3,2]\n"
   ]
  },
  {
   "cell_type": "code",
   "execution_count": 6,
   "metadata": {},
   "outputs": [
    {
     "name": "stdout",
     "output_type": "stream",
     "text": [
      "Number of IP addresses that are same for Test and Training dataset:  124800\n"
     ]
    }
   ],
   "source": [
    "#create an empty set to map the test and train ips and store them\n",
    "match_test_train_ip = {}\n",
    "intr = list(set(training).intersection(set(test)))\n",
    "print('Number of IP addresses that are same for Test and Training dataset: ', len(intr))"
   ]
  },
  {
   "cell_type": "code",
   "execution_count": 11,
   "metadata": {},
   "outputs": [
    {
     "name": "stdout",
     "output_type": "stream",
     "text": [
      "Collecting mmh3\n",
      "  Using cached https://files.pythonhosted.org/packages/fa/7e/3ddcab0a9fcea034212c02eb411433db9330e34d626360b97333368b4052/mmh3-2.5.1.tar.gz\n",
      "Building wheels for collected packages: mmh3\n",
      "  Running setup.py bdist_wheel for mmh3: started\n",
      "  Running setup.py bdist_wheel for mmh3: finished with status 'done'\n",
      "  Stored in directory: C:\\Users\\chitra\\AppData\\Local\\pip\\Cache\\wheels\\38\\b4\\ea\\6e4e321c625d3320c0c496bf4088371546d8fce5f1dd71b219\n",
      "Successfully built mmh3\n",
      "Installing collected packages: mmh3\n",
      "Successfully installed mmh3-2.5.1\n"
     ]
    }
   ],
   "source": [
    "!pip install -U mmh3"
   ]
  },
  {
   "cell_type": "code",
   "execution_count": 7,
   "metadata": {},
   "outputs": [],
   "source": [
    "#function to generate a bloom filter say we create 3 sample sizes mentioned in the tutorial \n",
    "def bloom_filter ( n ):\n",
    "    bit_array = bitarray(n)\n",
    "    bit_array.setall(0)\n",
    "    for i in training:\n",
    "        b1 = mmh3.hash(str(i), 42) % n \n",
    "        bit_array[b1] = 1\n",
    "        b2 = mmh3.hash(str(i), 24) % n \n",
    "        bit_array[b2] = 1\n",
    "        b3 = mmh3.hash(str(i), 98) % n \n",
    "        bit_array[b3] = 1  \n",
    "    return bit_array"
   ]
  },
  {
   "cell_type": "code",
   "execution_count": 9,
   "metadata": {},
   "outputs": [],
   "source": [
    "# a function that calculates fp! if the values in all bits =1 then we store it in a found list and subtract it from the total list \n",
    "def calculate_false_positives ( bit_array, n ):\n",
    "    found_list = []\n",
    "    false_positive_count = 0\n",
    "    for i in test:\n",
    "        b1 = mmh3.hash(i, 42) % n \n",
    "        b2 = mmh3.hash(i, 24) % n \n",
    "        b3 = mmh3.hash(i, 98) % n\n",
    "        x = bit_array[b1] == 1 and bit_array[b2] == 1 and bit_array[b3] == 1\n",
    "        if x:\n",
    "            found_list.append(i)\n",
    "    false_positive_list = list(set(found_list) - set(intr))\n",
    "    return false_positive_list"
   ]
  },
  {
   "cell_type": "code",
   "execution_count": 10,
   "metadata": {},
   "outputs": [],
   "source": [
    "#false positive rate can be computed by the below metioned formula \n",
    "def false_positive_rate_theoretical_bound ( m, n ):\n",
    "    t0 = (m * np.log(2)) / n\n",
    "    t1 = - t0 * (n / m)\n",
    "    t2 = np.exp(t1)\n",
    "    t3 = 1 - t2\n",
    "    t4 = np.power(t3, t0)\n",
    "    print(\"t4 = \",t4)"
   ]
  },
  {
   "cell_type": "code",
   "execution_count": 11,
   "metadata": {},
   "outputs": [
    {
     "name": "stdout",
     "output_type": "stream",
     "text": [
      "number of false positives:  231100\n",
      "t4 =  0.9867945953273449\n",
      "false positive rate:  None\n"
     ]
    }
   ],
   "source": [
    "# now by taking some random value of n we try our pf rate \n",
    "n = 10000\n",
    "bit_array_10k = bloom_filter(n)\n",
    "print(\"number of false positives: \", len(calculate_false_positives (bit_array_10k, n)))\n",
    "print(\"false positive rate: \", false_positive_rate_theoretical_bound(n, 361423))"
   ]
  },
  {
   "cell_type": "code",
   "execution_count": 12,
   "metadata": {},
   "outputs": [
    {
     "name": "stdout",
     "output_type": "stream",
     "text": [
      "number of false positives:  231066\n",
      "t4 =  0.8755231258941681\n",
      "false positive rate:  None\n"
     ]
    }
   ],
   "source": [
    "# keep increasing n exponentaially as we dont know where it would stop \n",
    "n = 100000\n",
    "bit_array_100k = bloom_filter(n)\n",
    "print(\"number of false positives: \", len(calculate_false_positives (bit_array_100k, n)))\n",
    "print(\"false positive rate: \", false_positive_rate_theoretical_bound(n, 361423))"
   ]
  },
  {
   "cell_type": "code",
   "execution_count": 13,
   "metadata": {},
   "outputs": [
    {
     "name": "stdout",
     "output_type": "stream",
     "text": [
      "number of false positives:  57992\n",
      "t4 =  0.2646526331801972\n",
      "false positive rate:  None\n"
     ]
    }
   ],
   "source": [
    "#increse n again \n",
    "\n",
    "n = 1000000\n",
    "bit_array_1M = bloom_filter(n)\n",
    "print(\"number of false positives: \", len(calculate_false_positives (bit_array_1M, n)))\n",
    "print(\"false positive rate: \", false_positive_rate_theoretical_bound(n, 361423))"
   ]
  },
  {
   "cell_type": "code",
   "execution_count": 14,
   "metadata": {},
   "outputs": [
    {
     "name": "stdout",
     "output_type": "stream",
     "text": [
      "number of false positives:  190\n",
      "t4 =  1.6856297745011987e-06\n",
      "false positive rate:  None\n"
     ]
    }
   ],
   "source": [
    "# increase \n",
    "\n",
    "n = 10000000\n",
    "bit_array_10M = bloom_filter(n)\n",
    "print(\"number of false positives: \", len(calculate_false_positives (bit_array_10M, n)))\n",
    "print(\"false positive rate: \", false_positive_rate_theoretical_bound(n, 361423))"
   ]
  },
  {
   "cell_type": "code",
   "execution_count": 15,
   "metadata": {},
   "outputs": [
    {
     "name": "stdout",
     "output_type": "stream",
     "text": [
      "number of false positives:  72\n",
      "t4 =  2.188483571943762e-09\n",
      "false positive rate:  None\n"
     ]
    }
   ],
   "source": [
    "# we can see that the numer of fp are drastically decresing we can stop here\n",
    "\n",
    "n = 15000000\n",
    "bit_array_15M = bloom_filter(n)\n",
    "print(\"number of false positives: \", len(calculate_false_positives (bit_array_15M, n)))\n",
    "print(\"false positive rate: \", false_positive_rate_theoretical_bound(n, 361423))"
   ]
  },
  {
   "cell_type": "code",
   "execution_count": null,
   "metadata": {},
   "outputs": [],
   "source": []
  },
  {
   "cell_type": "code",
   "execution_count": 16,
   "metadata": {},
   "outputs": [],
   "source": [
    "l2 = np.log(2) * np.log(2)\n",
    "# We choose p = 0.01\n",
    "lp = np.log(0.01)"
   ]
  },
  {
   "cell_type": "code",
   "execution_count": 17,
   "metadata": {},
   "outputs": [
    {
     "name": "stdout",
     "output_type": "stream",
     "text": [
      "332038\n",
      "bit array size:  3182603.6135043297\n",
      "number of hash functions:  9.965784284662087\n"
     ]
    }
   ],
   "source": [
    "# Get number of distinct IP addresses in training data\n",
    "n = len(set(training))\n",
    "print(n)\n",
    "# Size of bit array\n",
    "m = - ( n * lp ) / l2\n",
    "print(\"bit array size: \", m)\n",
    "\n",
    "# No of hash functions to use \n",
    "k = - np.log(0.001) / np.log(2)\n",
    "print(\"number of hash functions: \", k)"
   ]
  },
  {
   "cell_type": "code",
   "execution_count": 19,
   "metadata": {},
   "outputs": [],
   "source": [
    "#now we cam create many bit arrays with varying sample size\n",
    "def bloom_filter_10 ( n ):\n",
    "    bit_array = bitarray(n)\n",
    "    bit_array.setall(0)\n",
    "    for i in training:\n",
    "        b1 = mmh3.hash(str(i), 42) % n \n",
    "        bit_array[b1] = 1\n",
    "        b2 = mmh3.hash(str(i), 27) % n \n",
    "        bit_array[b2] = 1\n",
    "        b3 = mmh3.hash(str(i), 89) % n \n",
    "        bit_array[b3] = 1  \n",
    "        b4 = mmh3.hash(str(i), 35) % n \n",
    "        bit_array[b4] = 1  \n",
    "        b5 = mmh3.hash(str(i), 16) % n \n",
    "        bit_array[b5] = 1  \n",
    "        b6 = mmh3.hash(str(i), 68) % n \n",
    "        bit_array[b6] = 1  \n",
    "        b7 = mmh3.hash(str(i), 75) % n \n",
    "        bit_array[b7] = 1  \n",
    "        b8 = mmh3.hash(str(i), 29) % n \n",
    "        bit_array[b8] = 1  \n",
    "        b9 = mmh3.hash(str(i), 8) % n \n",
    "        bit_array[b9] = 1  \n",
    "        b10 = mmh3.hash(str(i), 53) % n \n",
    "        bit_array[b10] = 1  \n",
    "    return bit_array"
   ]
  },
  {
   "cell_type": "code",
   "execution_count": 20,
   "metadata": {},
   "outputs": [],
   "source": [
    "#self explainatory \n",
    "def calculate_false_positives_10 ( bit_array, n ):\n",
    "    found_list = []\n",
    "    false_positive_count = 0\n",
    "    for i in test:\n",
    "        b1 = mmh3.hash(i, 42) % n \n",
    "        b2 = mmh3.hash(i, 24) % n \n",
    "        b3 = mmh3.hash(i, 98) % n\n",
    "        x = bit_array[b1] == 1 and bit_array[b2] == 1 and bit_array[b3] == 1 and bit_array[b4] and bit_array[b5] and bit_array[b6] and bit_array[b7] and  bit_array[b8] and bit_array[b9] and bit_array[b10] \n",
    "        if x:\n",
    "            found_list.append(i)\n",
    "    false_positive_list = list(set(found_list) - set(intr))\n",
    "    return false_positive_list"
   ]
  },
  {
   "cell_type": "code",
   "execution_count": 21,
   "metadata": {},
   "outputs": [
    {
     "name": "stdout",
     "output_type": "stream",
     "text": [
      "number of false positives:  53961\n"
     ]
    }
   ],
   "source": [
    "n = 3464261\n",
    "bit_array_optimal = bloom_filter_10(n)\n",
    "print(\"number of false positives: \", len(calculate_false_positives (bit_array_optimal, n)))"
   ]
  },
  {
   "cell_type": "code",
   "execution_count": 22,
   "metadata": {},
   "outputs": [
    {
     "name": "stdout",
     "output_type": "stream",
     "text": [
      "687938\n"
     ]
    }
   ],
   "source": [
    "n = len(set(training)) + len(set(test))\n",
    "print(n)"
   ]
  },
  {
   "cell_type": "code",
   "execution_count": 33,
   "metadata": {},
   "outputs": [
    {
     "name": "stdout",
     "output_type": "stream",
     "text": [
      "w: 27183\n",
      "d: 9\n",
      "w: 27183\n",
      "d: 7\n",
      "w: 27183\n",
      "d: 5\n",
      "w: 2718\n",
      "d: 9\n",
      "w: 2718\n",
      "d: 7\n",
      "w: 2718\n",
      "d: 5\n",
      "w: 272\n",
      "d: 9\n",
      "w: 272\n",
      "d: 7\n",
      "w: 272\n",
      "d: 5\n"
     ]
    }
   ],
   "source": [
    "# as mentioned in a source(https://en.wikipedia.org/wiki/Count%E2%80%93min_sketch) the method of calculation of w and d.\n",
    "e = 2.718281828\n",
    "\n",
    "#initialize ε and δ\n",
    "for epsilon in [0.0001, 0.001, 0.01]:\n",
    "    for delta in [0.0001, 0.001, 0.01]:\n",
    "        # derive w and d\n",
    "        w = round(e/epsilon)\n",
    "        d = round(math.log(1/delta))\n",
    "        print(\"w:\",w)\n",
    "        print(\"d:\",d)"
   ]
  },
  {
   "cell_type": "code",
   "execution_count": 23,
   "metadata": {},
   "outputs": [],
   "source": [
    "#as per question we can vary the values of w and d kindly take the values that are estimated in the above step for computation \n",
    "w = 10000\n",
    "d = 9\n",
    "mat = np.zeros([d, w])\n",
    "seeds = np.random.randint(1, 100, d, dtype='l')"
   ]
  },
  {
   "cell_type": "code",
   "execution_count": 26,
   "metadata": {},
   "outputs": [],
   "source": [
    "def CM_Sketch ( w, d ):  \n",
    "    for ip in iplist:\n",
    "        for i in range(d):\n",
    "            b = mmh3.hash(str(ip),seeds[i]) % w\n",
    "            mat[i][b] += 1"
   ]
  },
  {
   "cell_type": "code",
   "execution_count": 25,
   "metadata": {},
   "outputs": [
    {
     "name": "stdout",
     "output_type": "stream",
     "text": [
      "(9, 10000)\n"
     ]
    }
   ],
   "source": [
    "CM_Sketch(w, d)\n",
    "print(mat.shape)"
   ]
  },
  {
   "cell_type": "code",
   "execution_count": 27,
   "metadata": {},
   "outputs": [],
   "source": [
    "def get_count (ip, w, d):\n",
    "    counts = np.zeros(d)\n",
    "    for i in range(d):\n",
    "        b = mmh3.hash(ip, seeds[i]) % w \n",
    "        counts[i] = mat[i][b]\n",
    "        # print \"b, freq\", b, mat[i][b]\n",
    "    return np.ndarray.min(counts)"
   ]
  },
  {
   "cell_type": "code",
   "execution_count": 28,
   "metadata": {},
   "outputs": [],
   "source": [
    "ip_freq = {}\n",
    "for ip in set(iplist):\n",
    "    ip_freq[ip] = get_count(ip, w, d)"
   ]
  },
  {
   "cell_type": "code",
   "execution_count": 29,
   "metadata": {},
   "outputs": [],
   "source": [
    "t = [('147.32.84.229:13363', 516869),\n",
    "('147.32.80.9:53', 497651),\n",
    "('147.32.85.123:13815', 48768),\n",
    "('147.32.84.229:443', 44586),\n",
    "('147.32.80.13:80', 30602),\n",
    "('147.32.84.118:6881', 20378),\n",
    "('147.32.84.2:80', 18109),\n",
    "('76.13.114.90:80', 15863),\n",
    "('74.125.232.213:443', 14544),\n",
    "('147.32.86.58:48784', 12389)]"
   ]
  },
  {
   "cell_type": "code",
   "execution_count": 30,
   "metadata": {},
   "outputs": [
    {
     "data": {
      "text/plain": [
       "[('147.32.84.229:13363', 516869),\n",
       " ('147.32.80.9:53', 497651),\n",
       " ('147.32.85.123:13815', 48768),\n",
       " ('147.32.84.229:443', 44586),\n",
       " ('147.32.80.13:80', 30602),\n",
       " ('147.32.84.118:6881', 20378),\n",
       " ('147.32.84.2:80', 18109),\n",
       " ('76.13.114.90:80', 15863),\n",
       " ('74.125.232.213:443', 14544),\n",
       " ('147.32.86.58:48784', 12389)]"
      ]
     },
     "execution_count": 30,
     "metadata": {},
     "output_type": "execute_result"
    }
   ],
   "source": [
    "t"
   ]
  },
  {
   "cell_type": "code",
   "execution_count": 31,
   "metadata": {},
   "outputs": [
    {
     "name": "stdout",
     "output_type": "stream",
     "text": [
      "147.32.84.229:13363 516869 697825.0\n",
      "147.32.80.9:53 497651 482849.0\n",
      "147.32.85.123:13815 48768 166.0\n",
      "147.32.84.229:443 44586 64301.0\n",
      "147.32.80.13:80 30602 59114.0\n",
      "147.32.84.118:6881 20378 8082.0\n",
      "147.32.84.2:80 18109 12995.0\n",
      "76.13.114.90:80 15863 15224.0\n",
      "74.125.232.213:443 14544 8289.0\n",
      "147.32.86.58:48784 12389 4789.0\n"
     ]
    }
   ],
   "source": [
    "for row in range(10):\n",
    "    print(t[row][0], t[row][1], ip_freq[t[row][0]])"
   ]
  },
  {
   "cell_type": "code",
   "execution_count": null,
   "metadata": {},
   "outputs": [],
   "source": []
  },
  {
   "cell_type": "code",
   "execution_count": null,
   "metadata": {},
   "outputs": [],
   "source": []
  }
 ],
 "metadata": {
  "kernelspec": {
   "display_name": "Python 3",
   "language": "python",
   "name": "python3"
  },
  "language_info": {
   "codemirror_mode": {
    "name": "ipython",
    "version": 3
   },
   "file_extension": ".py",
   "mimetype": "text/x-python",
   "name": "python",
   "nbconvert_exporter": "python",
   "pygments_lexer": "ipython3",
   "version": "3.6.4"
  }
 },
 "nbformat": 4,
 "nbformat_minor": 2
}
