{
 "cells": [
  {
   "cell_type": "code",
   "execution_count": 93,
   "metadata": {},
   "outputs": [
    {
     "name": "stderr",
     "output_type": "stream",
     "text": [
      "C:\\Users\\chitra\\Anaconda3\\lib\\site-packages\\IPython\\core\\interactiveshell.py:2728: DtypeWarning: Columns (9) have mixed types. Specify dtype option on import or set low_memory=False.\n",
      "  interactivity=interactivity, compiler=compiler, result=result)\n"
     ]
    },
    {
     "data": {
      "text/plain": [
       "bin                               530056\n",
       "amount                             64800\n",
       "cardverificationcodesupplied           1\n",
       "cvcresponsecode                        7\n",
       "label                                  1\n",
       "CardId                            184798\n",
       "txvariantcode                   mccredit\n",
       "countryCodeDifference                  0\n",
       "NormalizedAmount                   0.648\n",
       "shopperinteraction                     1\n",
       "txvariantcode.1                 mccredit\n",
       "Name: 0, dtype: object"
      ]
     },
     "execution_count": 93,
     "metadata": {},
     "output_type": "execute_result"
    }
   ],
   "source": [
    "#import various libraries\n",
    "import numpy as np\n",
    "import pandas as pd\n",
    "from sklearn.ensemble import RandomForestClassifier\n",
    "from sklearn.model_selection import train_test_split\n",
    "from sklearn.metrics import precision_recall_fscore_support\n",
    "from imblearn.over_sampling import SMOTE\n",
    "from sklearn import svm\n",
    "#read the pre-processed csv file from the folder\n",
    "fruad = pd.read_csv('C:\\\\Users\\\\chitra\\\\Desktop\\\\TU-Delft\\\\Cyber Data Analytics\\\\smote1.csv')\n",
    "fruad.iloc[0]"
   ]
  },
  {
   "cell_type": "code",
   "execution_count": 94,
   "metadata": {},
   "outputs": [],
   "source": [
    "fruad.label.value_counts()\n",
    "#use the required variables from the above list\n",
    "model_variables = ['cardverificationcodesupplied', 'cvcresponsecode','CardId','countryCodeDifference','shopperinteraction','txvariantcode.1','NormalizedAmount','label']\n",
    "fruad_data_relevent = fruad[model_variables]\n",
    "fruad_relevant_enconded = pd.get_dummies(fruad_data_relevent)"
   ]
  },
  {
   "cell_type": "code",
   "execution_count": 95,
   "metadata": {},
   "outputs": [],
   "source": [
    "#split the dataset into training and testing features. the target represents the labels where 1 represents fraud and 0 represnts non fraud\n",
    "training_features, test_features, training_target, test_target, = train_test_split(fruad_relevant_enconded.drop(['label'], axis=1),\n",
    "                                               fruad_relevant_enconded['label'],\n",
    "                                               test_size = .2)"
   ]
  },
  {
   "cell_type": "code",
   "execution_count": 96,
   "metadata": {},
   "outputs": [
    {
     "name": "stderr",
     "output_type": "stream",
     "text": [
      "C:\\Users\\chitra\\Anaconda3\\lib\\site-packages\\sklearn\\utils\\deprecation.py:77: DeprecationWarning: Function _ratio_float is deprecated; Use a float for 'ratio' is deprecated from version 0.2. The support will be removed in 0.4. Use a dict, str, or a callable instead.\n",
      "  warnings.warn(msg, category=DeprecationWarning)\n"
     ]
    },
    {
     "name": "stdout",
     "output_type": "stream",
     "text": [
      "data after SMOTING.........\n",
      "0    232027\n",
      "1       278\n",
      "Name: label, dtype: int64 [232027 232027]\n"
     ]
    }
   ],
   "source": [
    "#smote the dataset\n",
    "sm = SMOTE(random_state=12, ratio = 1.0)\n",
    "x_res, y_res = sm.fit_sample(training_features, training_target)\n",
    "print('data after SMOTING.........')\n",
    "print(training_target.value_counts(), np.bincount(y_res))"
   ]
  },
  {
   "cell_type": "code",
   "execution_count": 97,
   "metadata": {},
   "outputs": [],
   "source": [
    "#retraining the smoted dataset\n",
    "x_train_res, x_val_res, y_train_res, y_val_res = train_test_split(x_res,\n",
    "                                                    y_res,\n",
    "                                                    test_size = .1)"
   ]
  },
  {
   "cell_type": "code",
   "execution_count": 98,
   "metadata": {},
   "outputs": [
    {
     "name": "stdout",
     "output_type": "stream",
     "text": [
      "SMOTED data....\n"
     ]
    },
    {
     "name": "stderr",
     "output_type": "stream",
     "text": [
      "C:\\Users\\chitra\\Anaconda3\\lib\\site-packages\\sklearn\\discriminant_analysis.py:388: UserWarning: Variables are collinear.\n",
      "  warnings.warn(\"Variables are collinear.\")\n"
     ]
    },
    {
     "name": "stdout",
     "output_type": "stream",
     "text": [
      "0.8686807740378399\n",
      "(0.8857241349870384, 0.8692483702612397, 0.8673361214657942, None)\n",
      "UNSMOTED data...\n",
      "0.9935602734301014\n",
      "(0.5103840002381919, 0.5495323760442744, 0.5164259096424694, None)\n",
      "[[17820  5508]\n",
      " [  586 22492]]\n"
     ]
    }
   ],
   "source": [
    "#classifier 1\n",
    "import numpy as np\n",
    "from sklearn.discriminant_analysis import LinearDiscriminantAnalysis\n",
    "#classifier 1\n",
    "clf_rf = LinearDiscriminantAnalysis()\n",
    "\n",
    "\n",
    "#smoted data\n",
    "print('SMOTED data....')\n",
    "clf_rf.fit(x_train_res, y_train_res)\n",
    "print(clf_rf.score(x_val_res, y_val_res))\n",
    "print(precision_recall_fscore_support(y_val_res, clf_rf.predict(x_val_res) , average='macro'))\n",
    "pred_lda = clf_rf.predict(x_val_res)\n",
    "#unsmoted data\n",
    "print('UNSMOTED data...')\n",
    "clf_rf.fit(training_features, training_target)\n",
    "print(clf_rf.score(test_features, test_target))\n",
    "print(precision_recall_fscore_support(test_target, clf_rf.predict(test_features) , average='macro'))\n",
    "from sklearn.metrics import confusion_matrix\n",
    "print(confusion_matrix(y_val_res, pred_lda ))"
   ]
  },
  {
   "cell_type": "code",
   "execution_count": 99,
   "metadata": {},
   "outputs": [
    {
     "name": "stdout",
     "output_type": "stream",
     "text": [
      "SMOTED data...\n",
      "0.8794336939188898\n",
      "(0.8794336939188898, 0.8794336939188898, 0.8794336939188898, None)\n",
      "UNSMOTED data...\n",
      "0.9988291406236548\n",
      "(0.7267388520273169, 0.5372617176143073, 0.5638096525618493, None)\n",
      "[[19866  3462]\n",
      " [ 2133 20945]]\n"
     ]
    }
   ],
   "source": [
    "#classifier 2\n",
    "from sklearn.neighbors import NearestNeighbors\n",
    "from sklearn import neighbors\n",
    "#change the values of n_neighbors, to see variations. (eg n=6,3,7,etc)\n",
    "clf_rf = neighbors.KNeighborsClassifier(n_neighbors=3)\n",
    "\n",
    "#smoted data\n",
    "print('SMOTED data...')\n",
    "clf_rf.fit(x_train_res, y_train_res)\n",
    "print(clf_rf.score(x_val_res, y_val_res))\n",
    "print(precision_recall_fscore_support(y_val_res, clf_rf.predict(x_val_res) , average='micro'))\n",
    "pred_knn = clf_rf.predict(x_val_res)\n",
    "#unsmoted data\n",
    "print('UNSMOTED data...')\n",
    "clf_rf.fit(training_features, training_target)\n",
    "print(clf_rf.score(test_features, test_target))\n",
    "print(precision_recall_fscore_support(test_target, clf_rf.predict(test_features) , average='macro'))\n",
    "from sklearn.metrics import confusion_matrix\n",
    "print(confusion_matrix(y_val_res, pred_knn ))"
   ]
  },
  {
   "cell_type": "code",
   "execution_count": 100,
   "metadata": {},
   "outputs": [
    {
     "name": "stdout",
     "output_type": "stream",
     "text": [
      "SMOTED data...\n",
      "0.9975434211093394\n",
      "(0.9975398373868488, 0.997549618809284, 0.9975433772863161, None)\n",
      "UNSMOTED data...\n",
      "0.9986569554212511\n",
      "(0.4994230702993146, 0.4999051887605585, 0.4996640132327096, None)\n",
      "[[23244    84]\n",
      " [   30 23048]]\n"
     ]
    }
   ],
   "source": [
    "#classifier 3\n",
    "from sklearn.ensemble import RandomForestClassifier\n",
    "clf_rf = RandomForestClassifier(n_estimators=15, random_state=12)\n",
    "print('SMOTED data...')\n",
    "clf_rf.fit(x_train_res, y_train_res)\n",
    "print(clf_rf.score(x_val_res, y_val_res))\n",
    "print(precision_recall_fscore_support(y_val_res, clf_rf.predict(x_val_res) , average='macro'))\n",
    "pred_rd = clf_rf.predict(x_val_res)\n",
    "#unsmoted data\n",
    "print('UNSMOTED data...')\n",
    "clf_rf.fit(training_features, training_target)\n",
    "print(clf_rf.score(test_features, test_target))\n",
    "print(precision_recall_fscore_support(test_target, clf_rf.predict(test_features) , average='macro'))\n",
    "#confsuion matrix \n",
    "from sklearn.metrics import confusion_matrix\n",
    "print(confusion_matrix(y_val_res, pred_rd ))"
   ]
  },
  {
   "cell_type": "code",
   "execution_count": 101,
   "metadata": {},
   "outputs": [
    {
     "name": "stdout",
     "output_type": "stream",
     "text": [
      "SMOTED data...\n",
      "0.8156488385122613\n",
      "(0.8236277394337964, 0.8160698959905877, 0.8146403271834673, None)\n",
      "UNSMOTED data...\n",
      "0.9988119221034144\n",
      "(0.4994231597072751, 0.49998276159282884, 0.4997028039798424, None)\n",
      "[[17214  6114]\n",
      " [ 2441 20637]]\n"
     ]
    }
   ],
   "source": [
    "#extra classifier to test\n",
    "\n",
    "from sklearn.naive_bayes import GaussianNB\n",
    "clf_rf = GaussianNB()\n",
    "print('SMOTED data...')\n",
    "a = clf_rf.fit(x_train_res, y_train_res)\n",
    "print(clf_rf.score(x_val_res, y_val_res))\n",
    "print(precision_recall_fscore_support(y_val_res, clf_rf.predict(x_val_res) , average='macro'))\n",
    "pred_nb = clf_rf.predict(x_val_res)\n",
    "#unsmoted data\n",
    "print('UNSMOTED data...')\n",
    "clf_rf.fit(training_features, training_target)\n",
    "print(clf_rf.score(test_features, test_target))\n",
    "print(precision_recall_fscore_support(test_target, clf_rf.predict(test_features) , average='macro'))\n",
    "#confusion matrix \n",
    "from sklearn.metrics import confusion_matrix\n",
    "print(confusion_matrix(y_val_res, pred_nb ))"
   ]
  },
  {
   "cell_type": "code",
   "execution_count": 102,
   "metadata": {},
   "outputs": [],
   "source": [
    "#ROC plots and to predict AUC scores for every ROC.\n",
    "import numpy as np\n",
    "from sklearn.metrics import roc_auc_score\n",
    "#for all the 4 classifiers\n",
    "roc_auc_nb = roc_auc_score(y_val_res, pred_nb)\n",
    "roc_auc_lda = roc_auc_score(y_val_res, pred_lda)\n",
    "roc_auc_knn = roc_auc_score(y_val_res, pred_knn)\n",
    "roc_auc_rd = roc_auc_score(y_val_res, pred_rd)\n"
   ]
  },
  {
   "cell_type": "code",
   "execution_count": 107,
   "metadata": {},
   "outputs": [
    {
     "data": {
      "text/plain": [
       "<matplotlib.legend.Legend at 0x17b814a2a58>"
      ]
     },
     "execution_count": 107,
     "metadata": {},
     "output_type": "execute_result"
    },
    {
     "data": {
      "image/png": "[encoded data removed]",
      "text/plain": [
       "<matplotlib.figure.Figure at 0x17b82321240>"
      ]
     },
     "metadata": {},
     "output_type": "display_data"
    }
   ],
   "source": [
    "#import libraries and adjusting classes.\n",
    "from sklearn.metrics import roc_curve, auc\n",
    "import matplotlib.pyplot as plt\n",
    "from itertools import cycle\n",
    "from sklearn.preprocessing import label_binarize\n",
    "y = fruad_relevant_enconded['label']\n",
    "y = label_binarize(y, classes=[0, 1])\n",
    "n_classes = y.shape[1]\n",
    "\n",
    "#uncomment the following according to the classifier\n",
    "fpr, tpr, thresholds = roc_curve(y_val_res, pred_nb)\n",
    "#fpr, tpr, thresholds = roc_curve(y_val_res, pred_lda)\n",
    "#fpr, tpr, thresholds = roc_curve(y_val_res, pred_knn)\n",
    "#fpr, tpr, thresholds = roc_curve(y_val_res, pred_rd)\n",
    "#roc_auc = auc(y_val_res, pred_nb,reorder=True)\n",
    "\n",
    "#uncomment the below lines in order to see the ROC for each classifier\n",
    "plt.plot(fpr, tpr, label='ROC curve Naive Bayes (area = %0.3f)' % roc_auc_nb)\n",
    "#plt.plot(fpr, tpr, label='ROC curve LDA (area = %0.3f)' % roc_auc_lda)\n",
    "#plt.plot(fpr, tpr, label='ROC curve KNN (area = %0.3f)' % roc_auc_knn)\n",
    "#plt.plot(fpr, tpr, label='ROC curve Random Forest (area = %0.3f)' % roc_auc_rd)\n",
    "plt.plot([0, 1], [0, 1], 'k--')  # random predictions curve\n",
    "plt.xlim([0.0, 1.0])\n",
    "plt.ylim([0.0, 1.0])\n",
    "plt.xlabel('False Positive Rate or (1 - Specifity)')\n",
    "plt.ylabel('True Positive Rate or (Sensitivity)')\n",
    "plt.title('Receiver Operating Characteristic')\n",
    "plt.legend(loc=\"lower right\")\n"
   ]
  },
  {
   "cell_type": "code",
   "execution_count": 108,
   "metadata": {},
   "outputs": [
    {
     "name": "stderr",
     "output_type": "stream",
     "text": [
      "C:\\Users\\chitra\\Anaconda3\\lib\\site-packages\\sklearn\\utils\\deprecation.py:77: DeprecationWarning: Function _ratio_float is deprecated; Use a float for 'ratio' is deprecated from version 0.2. The support will be removed in 0.4. Use a dict, str, or a callable instead.\n",
      "  warnings.warn(msg, category=DeprecationWarning)\n"
     ]
    },
    {
     "name": "stdout",
     "output_type": "stream",
     "text": [
      "0    261032\n",
      "1       311\n",
      "Name: label, dtype: int64 [261032 261032]\n"
     ]
    }
   ],
   "source": [
    "#preprocessing for Cross Validation\n",
    "#leave one out method - test_features and test_target are used as testing samples and testing labels resp.\n",
    "training_features, test_features, training_target, test_target, = train_test_split(fruad_relevant_enconded.drop(['label'], axis=1),\n",
    "                                               fruad_relevant_enconded['label'],\n",
    "                                               test_size = .1)\n",
    "sm = SMOTE(random_state=12, ratio = 1.0)\n",
    "x_res, y_res = sm.fit_sample(training_features, training_target)\n",
    "print(training_target.value_counts(), np.bincount(y_res))\n",
    "\n",
    "x_train_res, x_val_res, y_train_res, y_val_res = train_test_split(x_res,\n",
    "                                                    y_res,\n",
    "                                                    test_size = .1)\n"
   ]
  },
  {
   "cell_type": "code",
   "execution_count": 109,
   "metadata": {},
   "outputs": [
    {
     "name": "stdout",
     "output_type": "stream",
     "text": [
      "[0.99872585 0.99858811 0.99879472 0.99879472 0.99879472 0.99882912\n",
      " 0.99882912 0.99882908 0.99882908 0.99882908]\n",
      "0.9987843611443983\n"
     ]
    }
   ],
   "source": [
    "#NB classifier for cross-validation (white box)\n",
    "from sklearn.naive_bayes import GaussianNB\n",
    "clf_rf = GaussianNB()\n",
    "from sklearn.model_selection import cross_val_score\n",
    "from sklearn import cross_validation\n",
    "#change the values of n_neighbors, to see variations. (eg n=6,3,7,etc)\n",
    "clf_rf = neighbors.KNeighborsClassifier(n_neighbors=6)\n",
    "scores = cross_val_score(clf_rf, fruad_relevant_enconded.drop(['label'], axis=1), fruad_relevant_enconded['label'], cv=10)\n",
    "print(scores)\n",
    "print(sum(scores)/len(scores))\n",
    "\n",
    "#uncomment tocalculate precision and recall\n",
    "#cross_validation.cross_val_score(clf_rf, fruad_relevant_enconded.drop(['label'], axis=1), fruad_relevant_enconded['label'], cv=10, scoring=\"recall\")\n",
    "#cross_validation.cross_val_score(clf_rf, fruad_relevant_enconded.drop(['label'], axis=1), fruad_relevant_enconded['label'], cv=10, scoring=\"precision\")\n"
   ]
  },
  {
   "cell_type": "code",
   "execution_count": 110,
   "metadata": {},
   "outputs": [
    {
     "name": "stdout",
     "output_type": "stream",
     "text": [
      "[0.64750852 0.99514446 0.99858811 0.99879472 0.99879472 0.99882912\n",
      " 0.99882912 0.99882908 0.99882908 0.9983125 ]\n",
      "0.9632459437293198\n"
     ]
    }
   ],
   "source": [
    "#random forest classifier for cROSS-VAlidation (black box)\n",
    "from sklearn.model_selection import cross_val_score\n",
    "from sklearn.model_selection import cross_val_predict\n",
    "from sklearn.metrics import accuracy_score\n",
    "from sklearn.ensemble import RandomForestClassifier\n",
    "clf_rf = RandomForestClassifier(n_estimators=15, random_state=12)\n",
    "scores = cross_val_score(clf_rf, fruad_relevant_enconded.drop(['label'], axis=1), fruad_relevant_enconded['label'], cv=10)\n",
    "print(scores)\n",
    "print(sum(scores)/len(scores))\n",
    "\n",
    "#uncomment to calculate precision and recall\n",
    "#cross_validation.cross_val_score(clf_rf, fruad_relevant_enconded.drop(['label'], axis=1), fruad_relevant_enconded['label'], cv=10, scoring=\"recall\")\n",
    "#cross_validation.cross_val_score(clf_rf, fruad_relevant_enconded.drop(['label'], axis=1), fruad_relevant_enconded['label'], cv=10, scoring=\"precision\")\n"
   ]
  },
  {
   "cell_type": "code",
   "execution_count": 111,
   "metadata": {},
   "outputs": [
    {
     "name": "stderr",
     "output_type": "stream",
     "text": [
      "C:\\Users\\chitra\\Anaconda3\\lib\\site-packages\\sklearn\\discriminant_analysis.py:388: UserWarning: Variables are collinear.\n",
      "  warnings.warn(\"Variables are collinear.\")\n",
      "C:\\Users\\chitra\\Anaconda3\\lib\\site-packages\\sklearn\\discriminant_analysis.py:388: UserWarning: Variables are collinear.\n",
      "  warnings.warn(\"Variables are collinear.\")\n",
      "C:\\Users\\chitra\\Anaconda3\\lib\\site-packages\\sklearn\\discriminant_analysis.py:388: UserWarning: Variables are collinear.\n",
      "  warnings.warn(\"Variables are collinear.\")\n",
      "C:\\Users\\chitra\\Anaconda3\\lib\\site-packages\\sklearn\\discriminant_analysis.py:388: UserWarning: Variables are collinear.\n",
      "  warnings.warn(\"Variables are collinear.\")\n",
      "C:\\Users\\chitra\\Anaconda3\\lib\\site-packages\\sklearn\\discriminant_analysis.py:388: UserWarning: Variables are collinear.\n",
      "  warnings.warn(\"Variables are collinear.\")\n",
      "C:\\Users\\chitra\\Anaconda3\\lib\\site-packages\\sklearn\\discriminant_analysis.py:388: UserWarning: Variables are collinear.\n",
      "  warnings.warn(\"Variables are collinear.\")\n",
      "C:\\Users\\chitra\\Anaconda3\\lib\\site-packages\\sklearn\\discriminant_analysis.py:388: UserWarning: Variables are collinear.\n",
      "  warnings.warn(\"Variables are collinear.\")\n",
      "C:\\Users\\chitra\\Anaconda3\\lib\\site-packages\\sklearn\\discriminant_analysis.py:388: UserWarning: Variables are collinear.\n",
      "  warnings.warn(\"Variables are collinear.\")\n",
      "C:\\Users\\chitra\\Anaconda3\\lib\\site-packages\\sklearn\\discriminant_analysis.py:388: UserWarning: Variables are collinear.\n",
      "  warnings.warn(\"Variables are collinear.\")\n"
     ]
    },
    {
     "name": "stdout",
     "output_type": "stream",
     "text": [
      "[0.52942594 0.97251971 0.99190743 0.99862254 0.99879472 0.99882912\n",
      " 0.99872581 0.99882908 0.99507525 0.9853635 ]\n",
      "0.9468093119273716\n"
     ]
    },
    {
     "name": "stderr",
     "output_type": "stream",
     "text": [
      "C:\\Users\\chitra\\Anaconda3\\lib\\site-packages\\sklearn\\discriminant_analysis.py:388: UserWarning: Variables are collinear.\n",
      "  warnings.warn(\"Variables are collinear.\")\n"
     ]
    }
   ],
   "source": [
    "# LDA for cross-validation (black-box)\n",
    "from sklearn.model_selection import cross_val_score\n",
    "from sklearn.model_selection import cross_val_predict\n",
    "from sklearn.metrics import accuracy_score\n",
    "from sklearn.discriminant_analysis import LinearDiscriminantAnalysis\n",
    "clf_rf = LinearDiscriminantAnalysis()\n",
    "scores = cross_val_score(clf_rf, fruad_relevant_enconded.drop(['label'], axis=1), fruad_relevant_enconded['label'], cv=10)\n",
    "print(scores)\n",
    "print(sum(scores)/len(scores))\n"
   ]
  },
  {
   "cell_type": "code",
   "execution_count": null,
   "metadata": {},
   "outputs": [],
   "source": [
    "\n"
   ]
  },
  {
   "cell_type": "code",
   "execution_count": null,
   "metadata": {},
   "outputs": [],
   "source": []
  }
 ],
 "metadata": {
  "kernelspec": {
   "display_name": "Python 3",
   "language": "python",
   "name": "python3"
  },
  "language_info": {
   "codemirror_mode": {
    "name": "ipython",
    "version": 3
   },
   "file_extension": ".py",
   "mimetype": "text/x-python",
   "name": "python",
   "nbconvert_exporter": "python",
   "pygments_lexer": "ipython3",
   "version": "3.6.4"
  }
 },
 "nbformat": 4,
 "nbformat_minor": 2
}
